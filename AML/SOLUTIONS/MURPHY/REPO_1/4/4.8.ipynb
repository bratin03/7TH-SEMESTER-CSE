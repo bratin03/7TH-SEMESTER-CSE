{
 "cells": [
  {
   "cell_type": "markdown",
   "metadata": {},
   "source": [
    "# Exercise 4.8"
   ]
  },
  {
   "cell_type": "code",
   "execution_count": 204,
   "metadata": {
    "collapsed": false
   },
   "outputs": [],
   "source": [
    "%matplotlib inline\n",
    "from matplotlib.pylab import plt\n",
    "from matplotlib.patches import Ellipse\n",
    "import numpy as np\n",
    "import pandas as pd\n",
    "from pandas import DataFrame\n",
    "from scipy.stats import chi2\n",
    "import scipy"
   ]
  },
  {
   "cell_type": "markdown",
   "metadata": {},
   "source": [
    "## Item a"
   ]
  },
  {
   "cell_type": "markdown",
   "metadata": {},
   "source": [
    "### Load data"
   ]
  },
  {
   "cell_type": "code",
   "execution_count": 206,
   "metadata": {
    "collapsed": false
   },
   "outputs": [
    {
     "data": {
      "text/html": [
       "<div>\n",
       "<table border=\"1\" class=\"dataframe\">\n",
       "  <thead>\n",
       "    <tr style=\"text-align: right;\">\n",
       "      <th></th>\n",
       "      <th>Genre</th>\n",
       "      <th>height</th>\n",
       "      <th>weight</th>\n",
       "    </tr>\n",
       "  </thead>\n",
       "  <tbody>\n",
       "    <tr>\n",
       "      <th>0</th>\n",
       "      <td>1</td>\n",
       "      <td>67</td>\n",
       "      <td>125</td>\n",
       "    </tr>\n",
       "    <tr>\n",
       "      <th>1</th>\n",
       "      <td>2</td>\n",
       "      <td>68</td>\n",
       "      <td>140</td>\n",
       "    </tr>\n",
       "    <tr>\n",
       "      <th>2</th>\n",
       "      <td>2</td>\n",
       "      <td>67</td>\n",
       "      <td>142</td>\n",
       "    </tr>\n",
       "    <tr>\n",
       "      <th>3</th>\n",
       "      <td>2</td>\n",
       "      <td>60</td>\n",
       "      <td>110</td>\n",
       "    </tr>\n",
       "    <tr>\n",
       "      <th>4</th>\n",
       "      <td>2</td>\n",
       "      <td>64</td>\n",
       "      <td>97</td>\n",
       "    </tr>\n",
       "  </tbody>\n",
       "</table>\n",
       "</div>"
      ],
      "text/plain": [
       "   Genre  height  weight\n",
       "0      1      67     125\n",
       "1      2      68     140\n",
       "2      2      67     142\n",
       "3      2      60     110\n",
       "4      2      64      97"
      ]
     },
     "execution_count": 206,
     "metadata": {},
     "output_type": "execute_result"
    }
   ],
   "source": [
    "df = pd.read_table('heightWeightData.txt', header = None, sep=',')\n",
    "df.columns = ['Genre', 'height', 'weight']\n",
    "df.head()"
   ]
  },
  {
   "cell_type": "markdown",
   "metadata": {},
   "source": [
    "### Remark\n",
    "\n",
    "The exercise tell us that the second column is height and the third is weight. However, taking a quick look on the data, we see that it is just the opposite."
   ]
  },
  {
   "cell_type": "code",
   "execution_count": 209,
   "metadata": {
    "collapsed": false
   },
   "outputs": [
    {
     "data": {
      "text/html": [
       "<div>\n",
       "<table border=\"1\" class=\"dataframe\">\n",
       "  <thead>\n",
       "    <tr style=\"text-align: right;\">\n",
       "      <th></th>\n",
       "      <th>weight</th>\n",
       "      <th>height</th>\n",
       "    </tr>\n",
       "  </thead>\n",
       "  <tbody>\n",
       "    <tr>\n",
       "      <th>count</th>\n",
       "      <td>210.000000</td>\n",
       "      <td>210.000000</td>\n",
       "    </tr>\n",
       "    <tr>\n",
       "      <th>mean</th>\n",
       "      <td>67.361905</td>\n",
       "      <td>145.657143</td>\n",
       "    </tr>\n",
       "    <tr>\n",
       "      <th>std</th>\n",
       "      <td>4.458471</td>\n",
       "      <td>32.694857</td>\n",
       "    </tr>\n",
       "    <tr>\n",
       "      <th>min</th>\n",
       "      <td>55.000000</td>\n",
       "      <td>95.000000</td>\n",
       "    </tr>\n",
       "    <tr>\n",
       "      <th>25%</th>\n",
       "      <td>64.000000</td>\n",
       "      <td>125.000000</td>\n",
       "    </tr>\n",
       "    <tr>\n",
       "      <th>50%</th>\n",
       "      <td>67.000000</td>\n",
       "      <td>140.000000</td>\n",
       "    </tr>\n",
       "    <tr>\n",
       "      <th>75%</th>\n",
       "      <td>71.000000</td>\n",
       "      <td>161.500000</td>\n",
       "    </tr>\n",
       "    <tr>\n",
       "      <th>max</th>\n",
       "      <td>79.000000</td>\n",
       "      <td>280.000000</td>\n",
       "    </tr>\n",
       "  </tbody>\n",
       "</table>\n",
       "</div>"
      ],
      "text/plain": [
       "           weight      height\n",
       "count  210.000000  210.000000\n",
       "mean    67.361905  145.657143\n",
       "std      4.458471   32.694857\n",
       "min     55.000000   95.000000\n",
       "25%     64.000000  125.000000\n",
       "50%     67.000000  140.000000\n",
       "75%     71.000000  161.500000\n",
       "max     79.000000  280.000000"
      ]
     },
     "execution_count": 209,
     "metadata": {},
     "output_type": "execute_result"
    }
   ],
   "source": [
    "df.columns = ['Genre', 'weight', 'height']\n",
    "df.describe().ix[:,'weight':]"
   ]
  },
  {
   "cell_type": "markdown",
   "metadata": {},
   "source": [
    "### Separate males"
   ]
  },
  {
   "cell_type": "code",
   "execution_count": 226,
   "metadata": {
    "collapsed": false
   },
   "outputs": [
    {
     "data": {
      "text/html": [
       "<div>\n",
       "<table border=\"1\" class=\"dataframe\">\n",
       "  <thead>\n",
       "    <tr style=\"text-align: right;\">\n",
       "      <th></th>\n",
       "      <th>weight</th>\n",
       "      <th>height</th>\n",
       "    </tr>\n",
       "  </thead>\n",
       "  <tbody>\n",
       "    <tr>\n",
       "      <th>count</th>\n",
       "      <td>73.000000</td>\n",
       "      <td>73.000000</td>\n",
       "    </tr>\n",
       "    <tr>\n",
       "      <th>mean</th>\n",
       "      <td>71.657534</td>\n",
       "      <td>175.616438</td>\n",
       "    </tr>\n",
       "    <tr>\n",
       "      <th>std</th>\n",
       "      <td>3.127917</td>\n",
       "      <td>32.398401</td>\n",
       "    </tr>\n",
       "    <tr>\n",
       "      <th>min</th>\n",
       "      <td>65.000000</td>\n",
       "      <td>125.000000</td>\n",
       "    </tr>\n",
       "    <tr>\n",
       "      <th>25%</th>\n",
       "      <td>70.000000</td>\n",
       "      <td>155.000000</td>\n",
       "    </tr>\n",
       "    <tr>\n",
       "      <th>50%</th>\n",
       "      <td>72.000000</td>\n",
       "      <td>170.000000</td>\n",
       "    </tr>\n",
       "    <tr>\n",
       "      <th>75%</th>\n",
       "      <td>73.000000</td>\n",
       "      <td>185.000000</td>\n",
       "    </tr>\n",
       "    <tr>\n",
       "      <th>max</th>\n",
       "      <td>79.000000</td>\n",
       "      <td>280.000000</td>\n",
       "    </tr>\n",
       "  </tbody>\n",
       "</table>\n",
       "</div>"
      ],
      "text/plain": [
       "          weight      height\n",
       "count  73.000000   73.000000\n",
       "mean   71.657534  175.616438\n",
       "std     3.127917   32.398401\n",
       "min    65.000000  125.000000\n",
       "25%    70.000000  155.000000\n",
       "50%    72.000000  170.000000\n",
       "75%    73.000000  185.000000\n",
       "max    79.000000  280.000000"
      ]
     },
     "execution_count": 226,
     "metadata": {},
     "output_type": "execute_result"
    }
   ],
   "source": [
    "males_df = df[df.Genre==1] # 1 corresponds to male\n",
    "males_df = males_df.drop('Genre', 1) #All the rows are equal\n",
    "males_df.describe()"
   ]
  },
  {
   "cell_type": "markdown",
   "metadata": {},
   "source": [
    "### Calculate empirical statistics\n",
    "\n",
    "Calculate the empirical statistics (mean and covariance matrix) in order to fit the bivariate Gaussian."
   ]
  },
  {
   "cell_type": "code",
   "execution_count": 227,
   "metadata": {
    "collapsed": false
   },
   "outputs": [],
   "source": [
    "mu = males_df.mean()\n",
    "cov = males_df.cov()"
   ]
  },
  {
   "cell_type": "markdown",
   "metadata": {},
   "source": [
    "### Visualization\n",
    "\n",
    "Plot data points together with Gaussian ellipse of the fitted data. The ellispse volume take 95,45 (mu +- 2sigma) of the mass of probability."
   ]
  },
  {
   "cell_type": "code",
   "execution_count": 228,
   "metadata": {
    "collapsed": true
   },
   "outputs": [],
   "source": [
    "def eigsorted(cov):\n",
    "        vals, vecs = np.linalg.eigh(cov)\n",
    "        order = vals.argsort()[::-1]\n",
    "        return vals[order], vecs[:,order]"
   ]
  },
  {
   "cell_type": "code",
   "execution_count": 229,
   "metadata": {
    "collapsed": false
   },
   "outputs": [
    {
     "data": {
      "image/png": "[encoded data removed]",
      "text/plain": [
       "<matplotlib.figure.Figure at 0x7f7385fa1550>"
      ]
     },
     "metadata": {},
     "output_type": "display_data"
    }
   ],
   "source": [
    "plt.scatter(males_df.weight, males_df.height)\n",
    "\n",
    "ax = plt.gca()\n",
    "\n",
    "vals, vecs = eigsorted(cov)\n",
    "theta = np.degrees(np.arctan2(*vecs[:,0][::-1]))\n",
    "\n",
    "volume = 0.9545\n",
    "width, height = 2 * np.sqrt(chi2.ppf(volume,2)) * np.sqrt(vals)\n",
    "\n",
    "ellipse = Ellipse(xy=mu, \n",
    "    width=width, \n",
    "    height=height,\n",
    "    angle=theta,\n",
    "    edgecolor='r', \n",
    "    fc='None', \n",
    "    lw=1)\n",
    "ax.add_patch(ellipse)\n",
    "\n",
    "\n",
    "plt.xlim([63, 80])\n",
    "plt.xlabel('weight')\n",
    "plt.ylim([80, 300])\n",
    "plt.ylabel('height')\n",
    "plt.title('raw data: male height vs weight')\n",
    "plt.show()"
   ]
  },
  {
   "cell_type": "markdown",
   "metadata": {},
   "source": [
    "## Item b"
   ]
  },
  {
   "cell_type": "markdown",
   "metadata": {},
   "source": [
    "### Standardize the data"
   ]
  },
  {
   "cell_type": "code",
   "execution_count": 232,
   "metadata": {
    "collapsed": false
   },
   "outputs": [
    {
     "data": {
      "text/html": [
       "<div>\n",
       "<table border=\"1\" class=\"dataframe\">\n",
       "  <thead>\n",
       "    <tr style=\"text-align: right;\">\n",
       "      <th></th>\n",
       "      <th>weight</th>\n",
       "      <th>height</th>\n",
       "    </tr>\n",
       "  </thead>\n",
       "  <tbody>\n",
       "    <tr>\n",
       "      <th>count</th>\n",
       "      <td>7.300000e+01</td>\n",
       "      <td>7.300000e+01</td>\n",
       "    </tr>\n",
       "    <tr>\n",
       "      <th>mean</th>\n",
       "      <td>1.409831e-15</td>\n",
       "      <td>-3.361086e-16</td>\n",
       "    </tr>\n",
       "    <tr>\n",
       "      <th>std</th>\n",
       "      <td>1.000000e+00</td>\n",
       "      <td>1.000000e+00</td>\n",
       "    </tr>\n",
       "    <tr>\n",
       "      <th>min</th>\n",
       "      <td>-2.128424e+00</td>\n",
       "      <td>-1.562313e+00</td>\n",
       "    </tr>\n",
       "    <tr>\n",
       "      <th>25%</th>\n",
       "      <td>-5.299163e-01</td>\n",
       "      <td>-6.363412e-01</td>\n",
       "    </tr>\n",
       "    <tr>\n",
       "      <th>50%</th>\n",
       "      <td>1.094868e-01</td>\n",
       "      <td>-1.733554e-01</td>\n",
       "    </tr>\n",
       "    <tr>\n",
       "      <th>75%</th>\n",
       "      <td>4.291884e-01</td>\n",
       "      <td>2.896304e-01</td>\n",
       "    </tr>\n",
       "    <tr>\n",
       "      <th>max</th>\n",
       "      <td>2.347398e+00</td>\n",
       "      <td>3.221874e+00</td>\n",
       "    </tr>\n",
       "  </tbody>\n",
       "</table>\n",
       "</div>"
      ],
      "text/plain": [
       "             weight        height\n",
       "count  7.300000e+01  7.300000e+01\n",
       "mean   1.409831e-15 -3.361086e-16\n",
       "std    1.000000e+00  1.000000e+00\n",
       "min   -2.128424e+00 -1.562313e+00\n",
       "25%   -5.299163e-01 -6.363412e-01\n",
       "50%    1.094868e-01 -1.733554e-01\n",
       "75%    4.291884e-01  2.896304e-01\n",
       "max    2.347398e+00  3.221874e+00"
      ]
     },
     "execution_count": 232,
     "metadata": {},
     "output_type": "execute_result"
    }
   ],
   "source": [
    "standard_df = (males_df - mu)/[cov.weight.weight**0.5, cov.height.height**0.5]\n",
    "standard_mu = standard_df.mean()\n",
    "standard_cov = standard_df.cov()\n",
    "standard_df.describe()"
   ]
  },
  {
   "cell_type": "code",
   "execution_count": 234,
   "metadata": {
    "collapsed": false
   },
   "outputs": [
    {
     "data": {
      "image/png": "[encoded data removed]",
      "text/plain": [
       "<matplotlib.figure.Figure at 0x7f7385df5da0>"
      ]
     },
     "metadata": {},
     "output_type": "display_data"
    }
   ],
   "source": [
    "plt.scatter(standard_df.weight, standard_df.height)\n",
    "\n",
    "ax = plt.gca()\n",
    "\n",
    "vals, vecs = eigsorted(standard_cov)\n",
    "theta = np.degrees(np.arctan2(*vecs[:,0][::-1]))\n",
    "\n",
    "volume = 0.9545\n",
    "width, height = 2 * np.sqrt(chi2.ppf(volume,2)) * np.sqrt(vals)\n",
    "\n",
    "ellipse = Ellipse(xy=standard_mu, \n",
    "    width=width, \n",
    "    height=height,\n",
    "    angle=theta,\n",
    "    edgecolor='r', \n",
    "    fc='None', \n",
    "    lw=1)\n",
    "ax.add_patch(ellipse)\n",
    "\n",
    "\n",
    "plt.xlim([-3, 3])\n",
    "plt.xlabel('standarized weight')\n",
    "plt.ylim([-3, 4])\n",
    "plt.ylabel('standarized height')\n",
    "plt.title('standarized data: male height vs weight')\n",
    "plt.show()"
   ]
  },
  {
   "cell_type": "markdown",
   "metadata": {},
   "source": [
    "## Item c"
   ]
  },
  {
   "cell_type": "markdown",
   "metadata": {},
   "source": [
    "### Whitening the data"
   ]
  },
  {
   "cell_type": "code",
   "execution_count": 240,
   "metadata": {
    "collapsed": false
   },
   "outputs": [],
   "source": [
    "eigenvalues, U = np.linalg.eigh(standard_cov)\n",
    "Lambda = np.diag(eigenvalues)\n",
    "Lambda = scipy.linalg.sqrtm(Lambda)\n",
    "Lambda = scipy.linalg.inv(Lambda) "
   ]
  },
  {
   "cell_type": "code",
   "execution_count": 244,
   "metadata": {
    "collapsed": false
   },
   "outputs": [],
   "source": [
    "M = Lambda.dot(U.T) \n",
    "white_df = DataFrame(M.dot(standard_df.as_matrix().T))\n",
    "white_df = white_df.T\n",
    "white_df.columns = ['weight', 'height']"
   ]
  },
  {
   "cell_type": "code",
   "execution_count": 245,
   "metadata": {
    "collapsed": false
   },
   "outputs": [],
   "source": [
    "white_mu = white_df.mean()\n",
    "white_cov = white_df.cov()"
   ]
  },
  {
   "cell_type": "code",
   "execution_count": 252,
   "metadata": {
    "collapsed": false
   },
   "outputs": [
    {
     "name": "stdout",
     "output_type": "stream",
     "text": [
      "4.97195571422 4.97195571422\n"
     ]
    },
    {
     "data": {
      "image/png": "[encoded data removed]",
      "text/plain": [
       "<matplotlib.figure.Figure at 0x7f7385cbb470>"
      ]
     },
     "metadata": {},
     "output_type": "display_data"
    }
   ],
   "source": [
    "plt.scatter(white_df.weight, white_df.height)\n",
    "\n",
    "ax = plt.gca()\n",
    "\n",
    "vals, vecs = eigsorted(white_cov)\n",
    "theta = np.degrees(np.arctan2(*vecs[:,0][::-1]))\n",
    "\n",
    "volume = 0.9545\n",
    "width, height = 2 * np.sqrt(chi2.ppf(volume,2)) * np.sqrt(vals)\n",
    "\n",
    "ellipse = Ellipse(xy=white_mu, \n",
    "    width=width, \n",
    "    height=height,\n",
    "    angle=theta,\n",
    "    edgecolor='r', \n",
    "    fc='None', \n",
    "    lw=1)\n",
    "ax.add_patch(ellipse)\n",
    "\n",
    "print(width, height)\n",
    "\n",
    "\n",
    "plt.xlim([-3, 3])\n",
    "plt.xlabel('white weight')\n",
    "plt.ylim([-3, 3])\n",
    "plt.ylabel('white height')\n",
    "plt.title('White data: male height vs weight')\n",
    "plt.axis(\"equal\") #This is necessary to plot a circle\n",
    "plt.show()"
   ]
  },
  {
   "cell_type": "markdown",
   "metadata": {},
   "source": [
    "## Remark\n",
    "\n",
    "As the author mentioned, the data points were rotaded in the 2D plane."
   ]
  },
  {
   "cell_type": "code",
   "execution_count": null,
   "metadata": {
    "collapsed": true
   },
   "outputs": [],
   "source": []
  }
 ],
 "metadata": {
  "kernelspec": {
   "display_name": "Python 3",
   "language": "python",
   "name": "python3"
  },
  "language_info": {
   "codemirror_mode": {
    "name": "ipython",
    "version": 3
   },
   "file_extension": ".py",
   "mimetype": "text/x-python",
   "name": "python",
   "nbconvert_exporter": "python",
   "pygments_lexer": "ipython3",
   "version": "3.5.2"
  }
 },
 "nbformat": 4,
 "nbformat_minor": 1
}
