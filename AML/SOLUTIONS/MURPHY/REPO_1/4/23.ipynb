{
 "cells": [
  {
   "cell_type": "markdown",
   "metadata": {},
   "source": [
    "# Exercise 4.23. Scalar QDA"
   ]
  },
  {
   "cell_type": "markdown",
   "metadata": {},
   "source": [
    "## Intro"
   ]
  },
  {
   "cell_type": "markdown",
   "metadata": {},
   "source": [
    "In this exercise, we will fit a QDA classifier in 1D data. QDA is all about breaking down the posterior p(y|x) into three components using Bayes's theorem. The three parameters are the class conditional p(x|y), the prior p(y) and the marginal likelihood p(x). \n",
    "\n",
    "QDA imposes that the class conditional be Gaussian. Also, the marginal likelihood \n",
    "can be decomposed into a summation of class conditionals and priors \n",
    "($p(x) = \\sum p(y)(p(x|y)$). A good strategy to estimate the parameters of the Gaussian\n",
    "and the prior is to use MLE, which is the main point of this exercise."
   ]
  },
  {
   "cell_type": "code",
   "execution_count": 1,
   "metadata": {},
   "outputs": [],
   "source": [
    "%load_ext autoreload\n",
    "%autoreload 2\n",
    "%matplotlib inline\n",
    "\n",
    "from matplotlib import pyplot as plt\n",
    "import numpy as np\n",
    "from scipy.stats import norm\n",
    "\n",
    "plt.rcParams['figure.figsize'] = 10, 8"
   ]
  },
  {
   "cell_type": "markdown",
   "metadata": {},
   "source": [
    "## Load data\n",
    "\n",
    "Males are encoded as 1 and females are encoded as 0."
   ]
  },
  {
   "cell_type": "code",
   "execution_count": 2,
   "metadata": {},
   "outputs": [],
   "source": [
    "x = np.asarray([67, 79, 71, 68, 67, 60], dtype=np.float32)\n",
    "y = np.asarray([1, 1, 1, 0, 0, 0], dtype=np.bool)"
   ]
  },
  {
   "cell_type": "markdown",
   "metadata": {},
   "source": [
    "## a"
   ]
  },
  {
   "cell_type": "markdown",
   "metadata": {},
   "source": [
    "### Fit QDA model to data usign MLE\n",
    "\n",
    "Remember from section 4.2.4 that the priors $\\pi_c$ and the parameters \n",
    "($\\mu_c$ and $\\Sigma_c$) can be estimated separately."
   ]
  },
  {
   "cell_type": "code",
   "execution_count": 3,
   "metadata": {},
   "outputs": [
    {
     "name": "stdout",
     "output_type": "stream",
     "text": [
      "pi_m = 0.50\n",
      "\n",
      "pi_f = 0.50\n",
      "\n",
      "mu_m = 72.33\n",
      "\n",
      "mu_f = 65.00\n",
      "\n",
      "Sigma_m = 4.99\n",
      "\n",
      "Sigma_f = 3.56\n",
      "\n"
     ]
    }
   ],
   "source": [
    "pi_m = (y==1).sum()/len(y)\n",
    "pi_f = (y==0).sum()/len(y)\n",
    "\n",
    "mu_m = x[y==1].sum()/(y==1).sum()\n",
    "mu_f = x[y==0].sum()/(y==0).sum()\n",
    "\n",
    "Sigma_m = ((x[y==1] - mu_m) ** 2).sum() / (y==1).sum()\n",
    "Sigma_f = ((x[y==0] - mu_f) ** 2).sum() / (y==0).sum()\n",
    "\n",
    "sigma_m = Sigma_m ** 0.5\n",
    "sigma_f = Sigma_f ** 0.5\n",
    "\n",
    "print('pi_m = {0:.2f}\\n'.format(pi_m))\n",
    "print('pi_f = {0:.2f}\\n'.format(pi_f))\n",
    "\n",
    "print('mu_m = {0:.2f}\\n'.format(mu_m))\n",
    "print('mu_f = {0:.2f}\\n'.format(mu_f))\n",
    "\n",
    "print('Sigma_m = {0:.2f}\\n'.format(sigma_m))\n",
    "print('Sigma_f = {0:.2f}\\n'.format(sigma_f))"
   ]
  },
  {
   "cell_type": "markdown",
   "metadata": {},
   "source": [
    "### Remarks \n",
    "\n",
    "In the computation of the variance, we made use of the property that \n",
    "$(x - \\mu)(x - \\mu)^t = (x - \\mu)^2$ when $x$ and $\\mu$ are scalars."
   ]
  },
  {
   "cell_type": "markdown",
   "metadata": {},
   "source": [
    "## b\n",
    "\n",
    "Plug-in prediction with the MLE parameters calculated in item a, for x = 72."
   ]
  },
  {
   "cell_type": "code",
   "execution_count": 4,
   "metadata": {},
   "outputs": [
    {
     "name": "stdout",
     "output_type": "stream",
     "text": [
      "p(y = m | x = 72, \\theta_MLE) = 0.83\n"
     ]
    }
   ],
   "source": [
    "sample = 72\n",
    "px_y_m = norm(loc=mu_m, scale=sigma_m).pdf(sample)\n",
    "px_y_f = norm(loc=mu_f, scale=sigma_f).pdf(sample)\n",
    "p_x = px_y_m * pi_m + px_y_f * pi_f\n",
    "\n",
    "p_y_m_x = (px_y_m * pi_m) / p_x\n",
    "\n",
    "print('p(y = m | x = 72, \\\\theta_MLE) = {0:.2f}'.format(p_y_m_x))"
   ]
  },
  {
   "cell_type": "markdown",
   "metadata": {},
   "source": [
    "## c"
   ]
  },
  {
   "cell_type": "markdown",
   "metadata": {},
   "source": [
    "If this was a multidimensional problem, we could not make use of $(x - \\mu)(x - \\mu)^t = (x - \\mu)^2$. This is the only difference from the 1D case for the multidimensional case."
   ]
  },
  {
   "cell_type": "markdown",
   "metadata": {},
   "source": [
    "## Conclusion"
   ]
  },
  {
   "cell_type": "markdown",
   "metadata": {},
   "source": [
    "In this exercise we perform scalar QDA. We used MLE to fit the parameters. In \n",
    "item b, $p(y = m | x = 72, \\theta_{MLE}) = 0.83$, which makes a lot of sense\n",
    "because x = 72 is very close to the mean of c = male and far away from the mean of c = female. This approach could be easily adapted to the multidimensional case. We only need to be careful in the computation of the covariance matrix."
   ]
  }
 ],
 "metadata": {
  "kernelspec": {
   "display_name": "Python 3",
   "language": "python",
   "name": "python3"
  },
  "language_info": {
   "codemirror_mode": {
    "name": "ipython",
    "version": 3
   },
   "file_extension": ".py",
   "mimetype": "text/x-python",
   "name": "python",
   "nbconvert_exporter": "python",
   "pygments_lexer": "ipython3",
   "version": "3.5.2"
  },
  "varInspector": {
   "cols": {
    "lenName": 16,
    "lenType": 16,
    "lenVar": 40
   },
   "kernels_config": {
    "python": {
     "delete_cmd_postfix": "",
     "delete_cmd_prefix": "del ",
     "library": "var_list.py",
     "varRefreshCmd": "print(var_dic_list())"
    },
    "r": {
     "delete_cmd_postfix": ") ",
     "delete_cmd_prefix": "rm(",
     "library": "var_list.r",
     "varRefreshCmd": "cat(var_dic_list()) "
    }
   },
   "types_to_exclude": [
    "module",
    "function",
    "builtin_function_or_method",
    "instance",
    "_Feature"
   ],
   "window_display": false
  }
 },
 "nbformat": 4,
 "nbformat_minor": 2
}
