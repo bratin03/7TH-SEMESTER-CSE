{
 "cells": [
  {
   "cell_type": "markdown",
   "metadata": {},
   "source": [
    "# Setting the beta hyper-parameters\n",
    "\n",
    "User inputs the mean m and the interval [l, u] where\n",
    "\n",
    "$$ p(l < \\theta < u) = 0,95 .$$\n",
    "\n",
    "Then, the program determine the hyper parameters of the beta distribution $$ B(\\alpha_1, \\alpha_2)$$\n",
    "\n",
    "We will use the authors suggestions. First, \n",
    "$$m = \\frac{\\alpha_1}{\\alpha_1 + \\alpha_2}$$\n",
    "$$\\alpha_2 = \\alpha_1(1/m - 1)$$\n",
    "\n",
    "Second, we will minimize the squared difference between the probability mass in the interval [l, u] and 0.95 to arrive at the desired result:\n",
    "\n",
    "$$\\left(\\int_l^u p(\\theta) - 0.95\\right)^2$$"
   ]
  },
  {
   "cell_type": "markdown",
   "metadata": {},
   "source": [
    "## Input data\n",
    "\n",
    "User must input the mean m and the bounds of the integral (l, u). Keep in mind the following restrictions:\n",
    "\n",
    "* m in (0, 1)\n",
    "* l <= u\n",
    "* l,u in [0, 1]\n"
   ]
  },
  {
   "cell_type": "code",
   "execution_count": 33,
   "metadata": {
    "collapsed": false
   },
   "outputs": [
    {
     "name": "stdout",
     "output_type": "stream",
     "text": [
      "Choose the mean: 0.4\n",
      "Choose lower bound: 0.1\n",
      "Choose upper bound: 0.8\n",
      "\n",
      "\n",
      "Parameters setted by the user:\n",
      "Mean\tm = 0.4\n",
      "Lower bound\tl = 0.1\n",
      "Upper bound\tu = 0.8\n"
     ]
    }
   ],
   "source": [
    "while True:\n",
    "    m = input('Choose the mean: ')\n",
    "    m = float(m)\n",
    "    if m <= 0 or m >= 1.0:\n",
    "        print(\"Invalid mean. Choose value between 0 and 1.\")\n",
    "    else:\n",
    "        break\n",
    "while True:\n",
    "    l = input('Choose lower bound: ')\n",
    "    l = float(l)\n",
    "    if l < 0 or l > 1.0:\n",
    "        print(\"Invalid lower bound. Choose value between 0 and 1.\")\n",
    "    else:\n",
    "        break\n",
    "while True:\n",
    "    u = input('Choose upper bound: ')\n",
    "    u = float(u)\n",
    "    if u < 0 or u > 1.0:\n",
    "        print(\"Invalid upper bound. Choose value between 0 and 1.\")\n",
    "    elif u < l:\n",
    "        print(\"Upper bound should be bigger than lower bound\")\n",
    "    else:\n",
    "        break\n",
    "print(\"\\n\")\n",
    "print(\"Parameters setted by the user:\")        \n",
    "print(\"Mean\\tm = {}\".format(m))\n",
    "print(\"Lower bound\\tl = {}\".format(l))\n",
    "print(\"Upper bound\\tu = {}\".format(u))"
   ]
  },
  {
   "cell_type": "markdown",
   "metadata": {},
   "source": [
    "## Auxiliary functions\n",
    "\n",
    "We will create some utility functions to compute the integrand expression \n",
    "$$expr = \\frac{1}{B(\\alpha_1, \\alpha_2)}\\theta^{(\\alpha_1 - 1)}(1 - \\theta)^{(\\alpha_1(\\frac{1}{m} - 1) - 1)}$$\n",
    "\n",
    "and the objective function\n",
    "\n",
    "$$(\\int_l^u expr d\\theta - 0.95)^2$$"
   ]
  },
  {
   "cell_type": "code",
   "execution_count": 34,
   "metadata": {
    "collapsed": true
   },
   "outputs": [],
   "source": [
    "import numpy as np\n",
    "import scipy\n",
    "from scipy import integrate, special"
   ]
  },
  {
   "cell_type": "code",
   "execution_count": 35,
   "metadata": {
    "collapsed": false
   },
   "outputs": [],
   "source": [
    "def expression(theta, alpha1, m):\n",
    "    \n",
    "    \"\"\"Expression for the integrand\"\"\"\n",
    "    \n",
    "    beta = special.beta(alpha1, alpha1*(1/m-1))\n",
    "    expr = (theta ** (alpha1 - 1)) * (1 - theta) ** (alpha1 * (1/m - 1) - 1)\n",
    "    expr /= beta\n",
    "    return expr"
   ]
  },
  {
   "cell_type": "code",
   "execution_count": 36,
   "metadata": {
    "collapsed": false
   },
   "outputs": [],
   "source": [
    "def func_value(alpha1, m, l, u):\n",
    "\n",
    "    \"\"\"Objective function\"\"\"\n",
    "    \n",
    "    integral = (integrate.quad(expression, l, u, args=(alpha1, m)))\n",
    "    final_expression = (integral[0] - 0.95) ** 2\n",
    "    return final_expression"
   ]
  },
  {
   "cell_type": "code",
   "execution_count": 37,
   "metadata": {
    "collapsed": false
   },
   "outputs": [
    {
     "data": {
      "text/plain": [
       "0.2887553342140952"
      ]
     },
     "execution_count": 37,
     "metadata": {},
     "output_type": "execute_result"
    }
   ],
   "source": [
    "#Test different values of alhpa1 to get a felling of the behaviour of the function\n",
    "alpha1 = 0.3\n",
    "func_value(alpha1, m, l, u)"
   ]
  },
  {
   "cell_type": "markdown",
   "metadata": {},
   "source": [
    "## Initial Visualization\n",
    "\n",
    "Our objective function is 1-D in alpha1. Therefore, we should plot the function in a big interval to get a general idea where we should put the initial point of the optimization"
   ]
  },
  {
   "cell_type": "code",
   "execution_count": 38,
   "metadata": {
    "collapsed": false
   },
   "outputs": [],
   "source": [
    "x = np.linspace(0, 10, 1000)\n",
    "y = np.zeros(x.shape)\n",
    "for count, element in enumerate(x):\n",
    "    y[count] = func_value(element, m, l, u)"
   ]
  },
  {
   "cell_type": "code",
   "execution_count": 39,
   "metadata": {
    "collapsed": false
   },
   "outputs": [
    {
     "data": {
      "image/png": "[encoded data removed]",
      "text/plain": [
       "<matplotlib.figure.Figure at 0x7ff76a3ce160>"
      ]
     },
     "metadata": {},
     "output_type": "display_data"
    }
   ],
   "source": [
    "%matplotlib inline\n",
    "\n",
    "import matplotlib\n",
    "import matplotlib.pyplot as plt\n",
    "\n",
    "plt.figure()\n",
    "plt.plot(x, y, 'r')\n",
    "plt.xlabel('alpha_1')\n",
    "plt.ylabel('Objective function')\n",
    "plt.title('Objective function visualization')\n",
    "plt.grid()\n",
    "plt.show()"
   ]
  },
  {
   "cell_type": "markdown",
   "metadata": {},
   "source": [
    "## Optimization\n",
    "\n",
    "Perform the optimization of our constrained objective function. We only have one constraint in this problem: $$\\alpha_1 > 0$$"
   ]
  },
  {
   "cell_type": "code",
   "execution_count": 40,
   "metadata": {
    "collapsed": false
   },
   "outputs": [],
   "source": [
    "from scipy.optimize import minimize"
   ]
  },
  {
   "cell_type": "code",
   "execution_count": 41,
   "metadata": {
    "collapsed": false
   },
   "outputs": [
    {
     "name": "stdout",
     "output_type": "stream",
     "text": [
      "optimum argument: [ 2.45852244]\toptimum value: 9.568643470559707e-11\n"
     ]
    }
   ],
   "source": [
    "opt_result = minimize(\n",
    "    func_value, \n",
    "    x0 = 0.25, \n",
    "    args=(m, l, u), \n",
    "    method='L-BFGS-B', \n",
    "    jac=None, \n",
    "    bounds=((0, None),), \n",
    "    tol=None, \n",
    "    callback=None, \n",
    "    options={\n",
    "        'disp': None, \n",
    "        'maxls': 20, \n",
    "        'iprint': -1, \n",
    "        'gtol': 1e-05, \n",
    "        'eps': 1e-08, \n",
    "        'maxiter': 15000, \n",
    "        'ftol': 2.220446049250313e-09, \n",
    "        'maxcor': 10, \n",
    "        'maxfun': 15000}\n",
    ")\n",
    "alpha1_opt = opt_result.x\n",
    "opt_value = func_value(alpha1_opt, m, l, u)\n",
    "print(\"optimum argument: {0}\\toptimum value: {1}\".format(alpha1_opt, opt_value))"
   ]
  },
  {
   "cell_type": "markdown",
   "metadata": {},
   "source": [
    "## Final visualization\n",
    "\n",
    "With the result of our optimization in hands, we can generate a final visualization zoomed in the point of interest"
   ]
  },
  {
   "cell_type": "code",
   "execution_count": 42,
   "metadata": {
    "collapsed": false
   },
   "outputs": [],
   "source": [
    "x = np.linspace(opt_result.x * 0.75, opt_result.x * 1.25, 1000)\n",
    "y = np.zeros(x.shape)\n",
    "for count, element in enumerate(x):\n",
    "    y[count] = func_value(element, m, l, u)"
   ]
  },
  {
   "cell_type": "code",
   "execution_count": 43,
   "metadata": {
    "collapsed": false
   },
   "outputs": [
    {
     "data": {
      "image/png": "[encoded data removed]",
      "text/plain": [
       "<matplotlib.figure.Figure at 0x7ff764705cf8>"
      ]
     },
     "metadata": {},
     "output_type": "display_data"
    }
   ],
   "source": [
    "%matplotlib inline\n",
    "\n",
    "import matplotlib\n",
    "import matplotlib.pyplot as plt\n",
    "\n",
    "plt.figure()\n",
    "plt.plot(x, y, 'r')\n",
    "plt.xlabel('alpha_1')\n",
    "plt.ylabel('Objective function')\n",
    "plt.title('Objective function visualization')\n",
    "plt.grid()\n",
    "plt.show()"
   ]
  },
  {
   "cell_type": "markdown",
   "metadata": {},
   "source": [
    "## Calculate the hyper parameters"
   ]
  },
  {
   "cell_type": "code",
   "execution_count": 44,
   "metadata": {
    "collapsed": false
   },
   "outputs": [
    {
     "name": "stdout",
     "output_type": "stream",
     "text": [
      "α1 = [ 2.45852244]\n",
      "α2 = [ 3.68778366]\n"
     ]
    }
   ],
   "source": [
    "alpha1 = opt_result.x\n",
    "alpha2 = alpha1 * (1/m - 1)\n",
    "alpha = b\"\\xce\\xb1\".decode('utf-8')\n",
    "print(\"{}1 = {}\".format(alpha, alpha1))\n",
    "print(\"{}2 = {}\".format(alpha, alpha2))\n"
   ]
  },
  {
   "cell_type": "markdown",
   "metadata": {},
   "source": [
    "<img src=\"https://media.giphy.com/media/LgwoVr7YgUkrC/giphy.gif\">"
   ]
  }
 ],
 "metadata": {
  "kernelspec": {
   "display_name": "Python 3",
   "language": "python",
   "name": "python3"
  },
  "language_info": {
   "codemirror_mode": {
    "name": "ipython",
    "version": 3
   },
   "file_extension": ".py",
   "mimetype": "text/x-python",
   "name": "python",
   "nbconvert_exporter": "python",
   "pygments_lexer": "ipython3",
   "version": "3.5.2"
  }
 },
 "nbformat": 4,
 "nbformat_minor": 1
}
